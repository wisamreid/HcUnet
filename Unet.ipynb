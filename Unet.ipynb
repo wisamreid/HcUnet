{
 "cells": [
  {
   "cell_type": "code",
   "execution_count": 1,
   "metadata": {
    "colab": {},
    "colab_type": "code",
    "id": "jLMmj1M3Qo9F"
   },
   "outputs": [],
   "source": [
    "from unet import unet_constructor as GUnet\n",
    "import dataloader as dataloader\n",
    "from loss import dice_loss, cross_entropy_loss, random_cross_entropy\n",
    "import transforms as t\n",
    "import torch.nn.functional as F\n",
    "import torch\n",
    "import torch.nn as nn\n",
    "import torchvision.transforms as tt\n",
    "from torch.utils.tensorboard import SummaryWriter\n",
    "import numpy as np\n",
    "import matplotlib.pyplot as plt\n",
    "import pickle\n",
    "import skimage.io as io\n",
    "import os\n",
    "\n",
    "writer = SummaryWriter()"
   ]
  },
  {
   "cell_type": "code",
   "execution_count": 2,
   "metadata": {
    "colab": {},
    "colab_type": "code",
    "id": "Nbvse8ATuXoQ",
    "scrolled": true
   },
   "outputs": [],
   "source": [
    "data = dataloader.stack(path='./Data/train',\n",
    "                        joint_transforms=[t.to_float(),\n",
    "                                          t.reshape(),\n",
    "                                          t.nul_crop(),\n",
    "                                          t.random_crop([300, 300, 19]),\n",
    "                                          t.random_rotate(),\n",
    "                                          t.random_affine()\n",
    "                                          ],\n",
    "                        image_transforms=[\n",
    "                                          t.drop_channel(1), \n",
    "                                          t.random_gamma((.8,1.2)),\n",
    "                                          t.spekle(),\n",
    "                                          t.normalize([0.5, 0.5, 0.5, 0.5], [0.5, 0.5, 0.5, 0.5])\n",
    "                                          ]\n",
    "                        )\n",
    "\n",
    "val_data = dataloader.stack(path='./Data/train',\n",
    "                        joint_transforms=[t.to_float(),\n",
    "                                          t.reshape(),\n",
    "                                          t.random_crop([512, 512, 19]),\n",
    "                                          t.random_rotate(90),\n",
    "                                          #t.random_affine\n",
    "                                          ],\n",
    "                        image_transforms=[\n",
    "                                          #t.random_gamma((.8,1.2)),\n",
    "                                          #t.spekle(),\n",
    "                                          t.normalize([0.5, 0.5, 0.5, 0.5], [0.5, 0.5, 0.5, 0.5])\n",
    "                                          ]\n",
    "                        )\n",
    "\n"
   ]
  },
  {
   "cell_type": "code",
   "execution_count": 3,
   "metadata": {
    "colab": {},
    "colab_type": "code",
    "id": "ge1kgUHcQyye"
   },
   "outputs": [],
   "source": [
    "device = 'cuda:0'\n",
    "\n",
    "test = GUnet(image_dimensions=3,\n",
    "             in_channels=4,\n",
    "             out_channels=1,\n",
    "             feature_sizes=[16,32,64,128],\n",
    "             kernel={'conv1': (3, 3, 2), 'conv2': (3, 3, 1)},\n",
    "             upsample_kernel=(8, 8, 2),\n",
    "             max_pool_kernel=(2, 2, 1),\n",
    "             upsample_stride=(2, 2, 1),\n",
    "             dilation=1,\n",
    "             groups=2).to(device)\n",
    "\n",
    "\n",
    "test = test.type(torch.float)\n",
    "\n",
    "image, mask, pwl = data[0]\n",
    "\n",
    "out = test.forward(image.float().to(device))\n",
    "out_loss = dice_loss(out, mask.to(device))#, pwl.float().to('cuda'))\n",
    "\n"
   ]
  },
  {
   "cell_type": "code",
   "execution_count": 4,
   "metadata": {
    "colab": {},
    "colab_type": "code",
    "collapsed": true,
    "id": "kcUBS1bHppYS"
   },
   "outputs": [
    {
     "data": {
      "text/plain": [
       "unet_constructor(\n",
       "  (out_conv): Conv3d(16, 1, kernel_size=(1, 1, 1), stride=(1, 1, 1))\n",
       "  (down_steps): ModuleList(\n",
       "    (0): Down(\n",
       "      (conv1): Conv3d(4, 16, kernel_size=(3, 3, 2), stride=(1, 1, 1), groups=2)\n",
       "      (conv2): Conv3d(16, 16, kernel_size=(3, 3, 1), stride=(1, 1, 1), groups=2)\n",
       "      (batch1): BatchNorm3d(16, eps=1e-05, momentum=0.1, affine=True, track_running_stats=True)\n",
       "      (batch2): BatchNorm3d(16, eps=1e-05, momentum=0.1, affine=True, track_running_stats=True)\n",
       "      (relu): ReLU()\n",
       "    )\n",
       "    (1): Down(\n",
       "      (conv1): Conv3d(16, 32, kernel_size=(3, 3, 2), stride=(1, 1, 1), groups=2)\n",
       "      (conv2): Conv3d(32, 32, kernel_size=(3, 3, 1), stride=(1, 1, 1), groups=2)\n",
       "      (batch1): BatchNorm3d(32, eps=1e-05, momentum=0.1, affine=True, track_running_stats=True)\n",
       "      (batch2): BatchNorm3d(32, eps=1e-05, momentum=0.1, affine=True, track_running_stats=True)\n",
       "      (relu): ReLU()\n",
       "    )\n",
       "    (2): Down(\n",
       "      (conv1): Conv3d(32, 64, kernel_size=(3, 3, 2), stride=(1, 1, 1), groups=2)\n",
       "      (conv2): Conv3d(64, 64, kernel_size=(3, 3, 1), stride=(1, 1, 1), groups=2)\n",
       "      (batch1): BatchNorm3d(64, eps=1e-05, momentum=0.1, affine=True, track_running_stats=True)\n",
       "      (batch2): BatchNorm3d(64, eps=1e-05, momentum=0.1, affine=True, track_running_stats=True)\n",
       "      (relu): ReLU()\n",
       "    )\n",
       "    (3): Down(\n",
       "      (conv1): Conv3d(64, 128, kernel_size=(3, 3, 2), stride=(1, 1, 1), groups=2)\n",
       "      (conv2): Conv3d(128, 128, kernel_size=(3, 3, 1), stride=(1, 1, 1), groups=2)\n",
       "      (batch1): BatchNorm3d(128, eps=1e-05, momentum=0.1, affine=True, track_running_stats=True)\n",
       "      (batch2): BatchNorm3d(128, eps=1e-05, momentum=0.1, affine=True, track_running_stats=True)\n",
       "      (relu): ReLU()\n",
       "    )\n",
       "  )\n",
       "  (up_steps): ModuleList(\n",
       "    (0): Up(\n",
       "      (conv1): Conv3d(128, 64, kernel_size=(3, 3, 2), stride=(1, 1, 1), groups=2)\n",
       "      (conv2): Conv3d(64, 64, kernel_size=(3, 3, 1), stride=(1, 1, 1), groups=2)\n",
       "      (up_conv): ConvTranspose3d(128, 64, kernel_size=(8, 8, 2), stride=(2, 2, 1))\n",
       "      (batch1): BatchNorm3d(64, eps=1e-05, momentum=0.1, affine=True, track_running_stats=True)\n",
       "      (batch2): BatchNorm3d(64, eps=1e-05, momentum=0.1, affine=True, track_running_stats=True)\n",
       "      (relu): ReLU()\n",
       "    )\n",
       "    (1): Up(\n",
       "      (conv1): Conv3d(64, 32, kernel_size=(3, 3, 2), stride=(1, 1, 1), groups=2)\n",
       "      (conv2): Conv3d(32, 32, kernel_size=(3, 3, 1), stride=(1, 1, 1), groups=2)\n",
       "      (up_conv): ConvTranspose3d(64, 32, kernel_size=(8, 8, 2), stride=(2, 2, 1))\n",
       "      (batch1): BatchNorm3d(32, eps=1e-05, momentum=0.1, affine=True, track_running_stats=True)\n",
       "      (batch2): BatchNorm3d(32, eps=1e-05, momentum=0.1, affine=True, track_running_stats=True)\n",
       "      (relu): ReLU()\n",
       "    )\n",
       "    (2): Up(\n",
       "      (conv1): Conv3d(32, 16, kernel_size=(3, 3, 2), stride=(1, 1, 1), groups=2)\n",
       "      (conv2): Conv3d(16, 16, kernel_size=(3, 3, 1), stride=(1, 1, 1), groups=2)\n",
       "      (up_conv): ConvTranspose3d(32, 16, kernel_size=(8, 8, 2), stride=(2, 2, 1))\n",
       "      (batch1): BatchNorm3d(16, eps=1e-05, momentum=0.1, affine=True, track_running_stats=True)\n",
       "      (batch2): BatchNorm3d(16, eps=1e-05, momentum=0.1, affine=True, track_running_stats=True)\n",
       "      (relu): ReLU()\n",
       "    )\n",
       "  )\n",
       "  (max_pool): MaxPool3d(kernel_size=(2, 2, 1), stride=(2, 2, 1), padding=0, dilation=1, ceil_mode=False)\n",
       ")"
      ]
     },
     "execution_count": 4,
     "metadata": {},
     "output_type": "execute_result"
    }
   ],
   "source": [
    "test.load('Apr25_chris-MS-7C37_1.unet')\n",
    "test.cuda()\n",
    "test.train()"
   ]
  },
  {
   "cell_type": "code",
   "execution_count": 5,
   "metadata": {},
   "outputs": [],
   "source": [
    "epoch = 0 \n",
    "k = 0\n",
    "running_loss = 0\n",
    "device = 'cuda:0'\n",
    "\n",
    "losses_dice=[]\n",
    "avg_losses_dice = []\n",
    "losses_BCE=[]\n",
    "avg_losses_BCE = []\n",
    "\n"
   ]
  },
  {
   "cell_type": "code",
   "execution_count": 6,
   "metadata": {
    "colab": {},
    "colab_type": "code",
    "id": "qvqbnGucp2s0"
   },
   "outputs": [],
   "source": [
    "lr = .01\n",
    "gamma = .75\n",
    "\n",
    "optimizer = torch.optim.Adam(test.parameters(), lr = lr)\n",
    "#optimizer = torch.optim.SGD(test.parameters(), lr=lr, momentum=.99, nesterov=True)\n",
    "\n",
    "scheduler_1 = torch.optim.lr_scheduler.ExponentialLR(optimizer=optimizer, gamma=gamma)\n",
    "scheduler_2 = torch.optim.lr_scheduler.CosineAnnealingLR(optimizer=optimizer, T_max=100)\n"
   ]
  },
  {
   "cell_type": "code",
   "execution_count": null,
   "metadata": {
    "colab": {
     "base_uri": "https://localhost:8080/",
     "height": 32
    },
    "colab_type": "code",
    "id": "zbF3sMdZRKb5",
    "outputId": "6832ad5d-92bf-4554-aa0f-387fd63508f3"
   },
   "outputs": [
    {
     "name": "stdout",
     "output_type": "stream",
     "text": [
      "\u001b[32mEpoch: \u001b[0m206 | JOINT | 0 | \u001b[35mPOL: \u001b[0m0.642850 --> \u001b[35mOL: \u001b[0m0.582397"
     ]
    }
   ],
   "source": [
    "while True:  # loop over the dataset multiple times\n",
    "    epoch_loss_dice=[]\n",
    "    epoch_loss_BCE=[]\n",
    "    epoch_loss_joint=[]\n",
    "    for i in range(len(data)):\n",
    "        image, mask, pwl  = data[i]\n",
    "\n",
    "        optimizer.zero_grad()\n",
    "        out = test(image.float().to('cuda'))\n",
    "\n",
    "        #if epoch % 2 ==0:\n",
    "        #    out_loss = dice_loss(out, mask.to('cuda'))\n",
    "        #    losses_dice.append(out_loss.item())\n",
    "        #    epoch_loss_dice.append(out_loss.item())\n",
    "            \n",
    "        #else: \n",
    "        #    out_loss = random_cross_entropy(out, mask.to('cuda'), pwl.to('cuda'), 5, 500)\n",
    "        #    losses_BCE.append(out_loss.item())\n",
    "        #    epoch_loss_BCE.append(out_loss.item())\n",
    "\n",
    "        out_loss = random_cross_entropy(out, mask.to('cuda'), pwl.to('cuda'), 5, 5000) +\\\n",
    "                   dice_loss(out, mask.to('cuda'))\n",
    "        epoch_loss_joint.append(out_loss.item())\n",
    "        print(f'\\r\\033[32mEpoch: \\033[0m{epoch} |',end='')\n",
    "        #if epoch % 2 ==0:\n",
    "        #    print(f' DICE |',end='')\n",
    "        #else \n",
    "        #    print(' BCE |',end='')\n",
    "        \n",
    "        print(f' JOINT |', end='')\n",
    "        \n",
    "        \n",
    "        print(f' {i} |',end='')\n",
    "        print(f' \\033[35mPOL: \\033[0m{str(running_loss)[0:8]} -->', end='')\n",
    "        print(f' \\033[35mOL: \\033[0m{str(out_loss.item())[0:8]}', end='')\n",
    "\n",
    "        #if epoch > 30 and epoch % 2 ==0:\n",
    "        #    avg_losses_dice.append(np.array(losses_dice[-10::1]).sum()/len(losses_dice[-30::1]))\n",
    "        #    print(f' | \\033[31mAL: \\033[0m{str(avg_losses_dice[-1])[0:8]}',end='')\n",
    "        #elif epoch > 30:\n",
    "        #    avg_losses_BCE.append(np.array(losses_BCE[-10::1]).sum()/len(losses_BCE[-30::1]))\n",
    "        #    print(f' | \\033[31mAL: \\033[0m{str(avg_losses_BCE[-1])[0:8]}',end='')\n",
    "        \n",
    "        #if epoch > 10:\n",
    "        #    print(f' | \\033[31mAL DICE: \\033[0m{str(avg_losses_dice[-1])[0:8]}',end='')\n",
    "        #    print(f'  \\033[31mAL BCE: \\033[0m{str(avg_losses_BCE[-1])[0:8]}',end='')\n",
    "\n",
    "\n",
    "        out_loss.backward()\n",
    "        optimizer.step()\n",
    "\n",
    "        running_loss = out_loss.item()\n",
    "\n",
    "        if epoch+1 % 150 == 0:\n",
    "            scheduler_1.step() \n",
    "        #    writer.add_scalar('Learning Rate', lr, epoch)o\n",
    "        #    lr *= gamma\n",
    "\n",
    "\n",
    "    #After Epoch has run    \n",
    "    #if epoch % 2 ==0:\n",
    "    #    to_tb = (np.array(epoch_loss_dice).sum()/len(epoch_loss_dice))\n",
    "    #    writer.add_scalar('Dice Loss Train',to_tb, epoch)\n",
    "    #    epoch += 1\n",
    "    #else:\n",
    "    #    to_tb = (np.array(epoch_loss_BCE).sum()/len(epoch_loss_BCE))\n",
    "    #    writer.add_scalar('BCE Loss Train',to_tb, epoch)\n",
    "    #    epoch += 1\n",
    "    \n",
    "    to_tb = np.array(epoch_loss_joint).sum()/len(epoch_loss_joint)\n",
    "    writer.add_scalar('Joint Loss Train', to_tb, epoch)\n",
    "    epoch += 1\n",
    "\n",
    "\n"
   ]
  },
  {
   "cell_type": "code",
   "execution_count": null,
   "metadata": {},
   "outputs": [],
   "source": [
    "epoch_loss_dice"
   ]
  },
  {
   "cell_type": "code",
   "execution_count": null,
   "metadata": {
    "colab": {},
    "colab_type": "code",
    "id": "FHEDVZPqabcK"
   },
   "outputs": [],
   "source": [
    "test.save('Apr25_chris-MS-7C37_1.unet')"
   ]
  },
  {
   "cell_type": "code",
   "execution_count": null,
   "metadata": {
    "colab": {
     "base_uri": "https://localhost:8080/",
     "height": 280
    },
    "colab_type": "code",
    "id": "h4Vr8y2fwcgc",
    "outputId": "6b50e0ac-4059-4af6-c208-ee73fd43492f"
   },
   "outputs": [],
   "source": [
    "plt.semilogy(avg_losses_dice[10::])"
   ]
  },
  {
   "cell_type": "code",
   "execution_count": null,
   "metadata": {
    "colab": {
     "base_uri": "https://localhost:8080/",
     "height": 1000
    },
    "colab_type": "code",
    "id": "upSMMQWwEaf3",
    "outputId": "20905398-1900-44a9-cdb9-be3fac0dd1f2",
    "scrolled": false
   },
   "outputs": [],
   "source": [
    "image, mask, pwl  = val_data[8]\n",
    "#test.eval()\n",
    "#test.cpu()\n",
    "#torch.no_grad() \n",
    "out = test(image.float().cuda())\n"
   ]
  },
  {
   "cell_type": "code",
   "execution_count": null,
   "metadata": {
    "scrolled": false
   },
   "outputs": [],
   "source": [
    "pred = F.sigmoid(out) > .5\n",
    "for i in range(14):\n",
    "    #plt.imshow(image[0,2,:,:,i],cmap='Reds_r')\n",
    "    plt.imshow(pred[0,0,:,:,i].cpu().detach().numpy(), cmap='Greys_r')\n",
    "    plt.show()"
   ]
  },
  {
   "cell_type": "code",
   "execution_count": null,
   "metadata": {},
   "outputs": [],
   "source": [
    "pred.min()"
   ]
  },
  {
   "cell_type": "code",
   "execution_count": null,
   "metadata": {},
   "outputs": [],
   "source": [
    "io.imsave('best_yet.tif', pred.cpu().squeeze(0).transpose(0,3).float().numpy())"
   ]
  },
  {
   "cell_type": "code",
   "execution_count": null,
   "metadata": {},
   "outputs": [],
   "source": [
    "n.shape"
   ]
  },
  {
   "cell_type": "code",
   "execution_count": null,
   "metadata": {},
   "outputs": [],
   "source": []
  }
 ],
 "metadata": {
  "accelerator": "GPU",
  "colab": {
   "collapsed_sections": [],
   "machine_shape": "hm",
   "name": "Unet.ipynb",
   "provenance": []
  },
  "kernelspec": {
   "display_name": "Python 3",
   "language": "python",
   "name": "python3"
  },
  "language_info": {
   "codemirror_mode": {
    "name": "ipython",
    "version": 3
   },
   "file_extension": ".py",
   "mimetype": "text/x-python",
   "name": "python",
   "nbconvert_exporter": "python",
   "pygments_lexer": "ipython3",
   "version": "3.7.6"
  }
 },
 "nbformat": 4,
 "nbformat_minor": 1
}
