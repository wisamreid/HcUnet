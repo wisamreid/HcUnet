{
 "cells": [
  {
   "cell_type": "code",
   "execution_count": 1,
   "metadata": {
    "colab": {},
    "colab_type": "code",
    "id": "jLMmj1M3Qo9F"
   },
   "outputs": [],
   "source": [
    "from unet import unet_constructor as GUnet\n",
    "import dataloader as dataloader\n",
    "from loss import dice_loss, cross_entropy_loss, random_cross_entropy\n",
    "import transforms as t\n",
    "import torch.nn.functional as F\n",
    "import torch\n",
    "import torch.nn as nn\n",
    "import torchvision.transforms as tt\n",
    "from torch.utils.tensorboard import SummaryWriter\n",
    "import numpy as np\n",
    "import matplotlib.pyplot as plt\n",
    "import pickle\n",
    "import skimage.io as io\n",
    "import os\n",
    "import os.path\n",
    "import time\n",
    "\n",
    "\n"
   ]
  },
  {
   "cell_type": "code",
   "execution_count": 2,
   "metadata": {
    "colab": {},
    "colab_type": "code",
    "id": "Nbvse8ATuXoQ",
    "scrolled": true
   },
   "outputs": [],
   "source": [
    "data = dataloader.stack(path='./Data/train',\n",
    "                        joint_transforms=[t.to_float(),\n",
    "                                          t.reshape(),\n",
    "                                          t.nul_crop(rate=.85),\n",
    "                                          t.random_crop([256, 256, 24]),\n",
    "                                          t.random_rotate(),\n",
    "                                          t.random_affine()\n",
    "                                          ],\n",
    "                        image_transforms=[\n",
    "                                          t.drop_channel(.8), \n",
    "                                          t.random_gamma((.7, 1.3)),\n",
    "                                          t.random_intensity(),\n",
    "                                          t.spekle(0.00001),\n",
    "                                          t.clean_image(),\n",
    "                                          t.normalize([0.5, 0.5, 0.5, 0.5], [0.5, 0.5, 0.5, 0.5])\n",
    "                                          ]\n",
    "                        )\n",
    "\n",
    "val_data = dataloader.stack(path='./Data/train',\n",
    "                        joint_transforms=[t.to_float(),\n",
    "                                          t.reshape(),\n",
    "                                          t.random_crop([512, 512, 30]),\n",
    "                                          t.random_rotate(90),\n",
    "                                          #t.random_affine\n",
    "                                          ],\n",
    "                        image_transforms=[\n",
    "                                          #t.random_gamma((.8,1.2)),\n",
    "                                          #t.spekle(),\n",
    "                                          t.normalize([0.5, 0.5, 0.5, 0.5], [0.5, 0.5, 0.5, 0.5])\n",
    "                                          ]\n",
    "                        )\n",
    "\n"
   ]
  },
  {
   "cell_type": "code",
   "execution_count": 3,
   "metadata": {
    "colab": {},
    "colab_type": "code",
    "id": "ge1kgUHcQyye"
   },
   "outputs": [],
   "source": [
    "device = 'cuda:0'\n",
    "\n",
    "test = GUnet(image_dimensions=3,\n",
    "             in_channels=4,\n",
    "             out_channels=1,\n",
    "             #feature_sizes=[16,32,64,128],\n",
    "             feature_sizes=[32, 64, 128],\n",
    "             kernel={'conv1': (8, 8, 2), 'conv2': (8, 8, 1)},\n",
    "             upsample_kernel=(8, 8, 2),\n",
    "             max_pool_kernel=(2, 2, 1),\n",
    "             upsample_stride=(2, 2, 1),\n",
    "             dilation=1,\n",
    "             groups=2).to(device)\n",
    "\n",
    "\n",
    "test = test.type(torch.float)\n",
    "\n",
    "# image, mask, pwl = data[0]\n",
    "\n",
    "# out = test.forward(image.float().to(device))\n",
    "# out_loss = dice_loss(out, mask.to(device))#, pwl.float().to('cuda'))\n",
    "\n",
    "sd = None"
   ]
  },
  {
   "cell_type": "code",
   "execution_count": null,
   "metadata": {
    "colab": {},
    "colab_type": "code",
    "id": "kcUBS1bHppYS",
    "scrolled": true
   },
   "outputs": [],
   "source": [
    "#test.load('May14_chris-MS-7C37_2.unet') # <- BEST YET\n",
    "\n",
    "sd = 'Jun11_chris-MS-7C37_4.unet'\n",
    "test.load(sd)\n",
    "test.cuda()\n",
    "test.train()\n",
    "print('Yeet')"
   ]
  },
  {
   "cell_type": "code",
   "execution_count": 4,
   "metadata": {},
   "outputs": [],
   "source": [
    "epoch = 0 \n",
    "lr = 0.1\n",
    "gamma = .75\n",
    "weight_cel = 1\n",
    "weight_dice = 0\n",
    "cel_z_weighting_method = None\n",
    "timestart = time.asctime()\n",
    "\n",
    "device = 'cuda:0'                 \n",
    "\n",
    "epoch_loss = []\n",
    "running_loss = []\n",
    "\n"
   ]
  },
  {
   "cell_type": "code",
   "execution_count": 5,
   "metadata": {},
   "outputs": [],
   "source": [
    "writer = SummaryWriter(comment=timestart)"
   ]
  },
  {
   "cell_type": "code",
   "execution_count": 6,
   "metadata": {
    "colab": {},
    "colab_type": "code",
    "id": "qvqbnGucp2s0"
   },
   "outputs": [],
   "source": [
    "optimizer = torch.optim.Adam(test.parameters(), lr = lr)\n",
    "#optimizer = torch.optim.SGD(test.parameters(), lr=lr, momentum=.99, nesterov=True)\n",
    "\n",
    "scheduler_1 = torch.optim.lr_scheduler.ExponentialLR(optimizer=optimizer, gamma=gamma)\n",
    "scheduler_2 = torch.optim.lr_scheduler.CosineAnnealingLR(optimizer=optimizer, T_max=100)\n"
   ]
  },
  {
   "cell_type": "code",
   "execution_count": 7,
   "metadata": {
    "colab": {
     "base_uri": "https://localhost:8080/",
     "height": 32
    },
    "colab_type": "code",
    "id": "zbF3sMdZRKb5",
    "outputId": "6832ad5d-92bf-4554-aa0f-387fd63508f3",
    "scrolled": true
   },
   "outputs": [
    {
     "name": "stdout",
     "output_type": "stream",
     "text": [
      "\u001b[32mEpoch: \u001b[0m6 | JOINT | 7 | \u001b[35mPOL: \u001b[0m0.814985 --> \u001b[35mOL: \u001b[0m0.7477018"
     ]
    },
    {
     "ename": "RuntimeError",
     "evalue": "random_ expects 'from' to be less than 'to', but got from=0 >= to=0",
     "output_type": "error",
     "traceback": [
      "\u001b[0;31m---------------------------------------------------------------------------\u001b[0m",
      "\u001b[0;31mRuntimeError\u001b[0m                              Traceback (most recent call last)",
      "\u001b[0;32m<ipython-input-7-800f45373497>\u001b[0m in \u001b[0;36m<module>\u001b[0;34m\u001b[0m\n\u001b[1;32m     14\u001b[0m         \u001b[0;31m#out_loss = weight_cel * cross_entropy_loss(out, mask.to('cuda'), pwl.to('cuda'), weight=cel_z_weighting_method) +\\\u001b[0m\u001b[0;34m\u001b[0m\u001b[0;34m\u001b[0m\u001b[0;34m\u001b[0m\u001b[0m\n\u001b[1;32m     15\u001b[0m         \u001b[0;31m#           weight_dice * dice_loss(out, mask.to('cuda'))\u001b[0m\u001b[0;34m\u001b[0m\u001b[0;34m\u001b[0m\u001b[0;34m\u001b[0m\u001b[0m\n\u001b[0;32m---> 16\u001b[0;31m         \u001b[0mout_loss\u001b[0m \u001b[0;34m=\u001b[0m \u001b[0mweight_cel\u001b[0m \u001b[0;34m*\u001b[0m \u001b[0mrandom_cross_entropy\u001b[0m\u001b[0;34m(\u001b[0m\u001b[0mout\u001b[0m\u001b[0;34m,\u001b[0m \u001b[0mmask\u001b[0m\u001b[0;34m.\u001b[0m\u001b[0mto\u001b[0m\u001b[0;34m(\u001b[0m\u001b[0;34m'cuda'\u001b[0m\u001b[0;34m)\u001b[0m\u001b[0;34m,\u001b[0m \u001b[0mpwl\u001b[0m\u001b[0;34m.\u001b[0m\u001b[0mto\u001b[0m\u001b[0;34m(\u001b[0m\u001b[0;34m'cuda'\u001b[0m\u001b[0;34m)\u001b[0m\u001b[0;34m,\u001b[0m \u001b[0;36m20000\u001b[0m\u001b[0;34m)\u001b[0m \u001b[0;34m+\u001b[0m\u001b[0;31m\\\u001b[0m\u001b[0;34m\u001b[0m\u001b[0;34m\u001b[0m\u001b[0m\n\u001b[0m\u001b[1;32m     17\u001b[0m                    \u001b[0mweight_dice\u001b[0m \u001b[0;34m*\u001b[0m \u001b[0mdice_loss\u001b[0m\u001b[0;34m(\u001b[0m\u001b[0mout\u001b[0m\u001b[0;34m,\u001b[0m \u001b[0mmask\u001b[0m\u001b[0;34m.\u001b[0m\u001b[0mto\u001b[0m\u001b[0;34m(\u001b[0m\u001b[0;34m'cuda'\u001b[0m\u001b[0;34m)\u001b[0m\u001b[0;34m)\u001b[0m\u001b[0;34m\u001b[0m\u001b[0;34m\u001b[0m\u001b[0m\n\u001b[1;32m     18\u001b[0m \u001b[0;34m\u001b[0m\u001b[0m\n",
      "\u001b[0;32m~/Dropbox (Partners HealthCare)/HcUnet/loss.py\u001b[0m in \u001b[0;36mrandom_cross_entropy\u001b[0;34m(pred, mask, pwl, size)\u001b[0m\n\u001b[1;32m     77\u001b[0m         \u001b[0mpwl\u001b[0m \u001b[0;34m=\u001b[0m \u001b[0mpwl\u001b[0m\u001b[0;34m.\u001b[0m\u001b[0mreshape\u001b[0m\u001b[0;34m(\u001b[0m\u001b[0;34m-\u001b[0m\u001b[0;36m1\u001b[0m\u001b[0;34m)\u001b[0m\u001b[0;34m\u001b[0m\u001b[0;34m\u001b[0m\u001b[0m\n\u001b[1;32m     78\u001b[0m \u001b[0;34m\u001b[0m\u001b[0m\n\u001b[0;32m---> 79\u001b[0;31m         \u001b[0mpos_ind\u001b[0m \u001b[0;34m=\u001b[0m \u001b[0mtorch\u001b[0m\u001b[0;34m.\u001b[0m\u001b[0mrandint\u001b[0m\u001b[0;34m(\u001b[0m\u001b[0mlow\u001b[0m\u001b[0;34m=\u001b[0m\u001b[0;36m0\u001b[0m\u001b[0;34m,\u001b[0m \u001b[0mhigh\u001b[0m\u001b[0;34m=\u001b[0m\u001b[0mint\u001b[0m\u001b[0;34m(\u001b[0m\u001b[0;34m(\u001b[0m\u001b[0mmask\u001b[0m\u001b[0;34m==\u001b[0m\u001b[0;36m1\u001b[0m\u001b[0;34m)\u001b[0m\u001b[0;34m.\u001b[0m\u001b[0msum\u001b[0m\u001b[0;34m(\u001b[0m\u001b[0;34m)\u001b[0m\u001b[0;34m)\u001b[0m\u001b[0;34m,\u001b[0m \u001b[0msize\u001b[0m\u001b[0;34m=\u001b[0m\u001b[0;34m(\u001b[0m\u001b[0;36m1\u001b[0m\u001b[0;34m,\u001b[0m \u001b[0msize\u001b[0m\u001b[0;34m)\u001b[0m\u001b[0;34m)\u001b[0m\u001b[0;34m[\u001b[0m\u001b[0;36m0\u001b[0m\u001b[0;34m,\u001b[0m \u001b[0;34m:\u001b[0m\u001b[0;34m]\u001b[0m\u001b[0;34m\u001b[0m\u001b[0;34m\u001b[0m\u001b[0m\n\u001b[0m\u001b[1;32m     80\u001b[0m         \u001b[0mneg_ind\u001b[0m \u001b[0;34m=\u001b[0m \u001b[0mtorch\u001b[0m\u001b[0;34m.\u001b[0m\u001b[0mrandint\u001b[0m\u001b[0;34m(\u001b[0m\u001b[0mlow\u001b[0m\u001b[0;34m=\u001b[0m\u001b[0;36m0\u001b[0m\u001b[0;34m,\u001b[0m \u001b[0mhigh\u001b[0m\u001b[0;34m=\u001b[0m\u001b[0mint\u001b[0m\u001b[0;34m(\u001b[0m\u001b[0;34m(\u001b[0m\u001b[0mmask\u001b[0m\u001b[0;34m==\u001b[0m\u001b[0;36m0\u001b[0m\u001b[0;34m)\u001b[0m\u001b[0;34m.\u001b[0m\u001b[0msum\u001b[0m\u001b[0;34m(\u001b[0m\u001b[0;34m)\u001b[0m\u001b[0;34m)\u001b[0m\u001b[0;34m,\u001b[0m \u001b[0msize\u001b[0m\u001b[0;34m=\u001b[0m\u001b[0;34m(\u001b[0m\u001b[0;36m1\u001b[0m\u001b[0;34m,\u001b[0m \u001b[0msize\u001b[0m\u001b[0;34m)\u001b[0m\u001b[0;34m)\u001b[0m\u001b[0;34m[\u001b[0m\u001b[0;36m0\u001b[0m\u001b[0;34m,\u001b[0m \u001b[0;34m:\u001b[0m\u001b[0;34m]\u001b[0m\u001b[0;34m\u001b[0m\u001b[0;34m\u001b[0m\u001b[0m\n\u001b[1;32m     81\u001b[0m \u001b[0;34m\u001b[0m\u001b[0m\n",
      "\u001b[0;31mRuntimeError\u001b[0m: random_ expects 'from' to be less than 'to', but got from=0 >= to=0"
     ]
    }
   ],
   "source": [
    "while True:  # loop over the dataset multiple times\n",
    "    epoch_loss_dice=[]\n",
    "    epoch_loss_BCE=[]\n",
    "    epoch_loss_joint=[]\n",
    "    for i in range(len(data)):\n",
    "        image, mask, pwl  = data[i]\n",
    "\n",
    "        optimizer.zero_grad()\n",
    "        out = test(image.float().to('cuda'))\n",
    "\n",
    "\n",
    "        #out_loss = ((np.cos(2*np.pi * (epoch/100))+1)/4 + .2) * cross_entropy_loss(out, mask.to('cuda'), pwl.to('cuda'), 5) +\\\n",
    "        #           dice_loss(out, mask.to('cuda'))\n",
    "        #out_loss = weight_cel * cross_entropy_loss(out, mask.to('cuda'), pwl.to('cuda'), weight=cel_z_weighting_method) +\\\n",
    "        #           weight_dice * dice_loss(out, mask.to('cuda'))\n",
    "        out_loss = weight_cel * random_cross_entropy(out, mask.to('cuda'), pwl.to('cuda'), 20000) +\\\n",
    "                   weight_dice * dice_loss(out, mask.to('cuda'))\n",
    "        \n",
    "        \n",
    "        if torch.isnan(out_loss):\n",
    "            print(cross_entropy_loss(out, mask.to('cuda'), pwl.to('cuda')))\n",
    "            print(dice_loss(out, mask.to('cuda')))\n",
    "            print(torch.isnan(mask.float()).any(), torch.isnan(image.float().any()), torch.isnan(pwl.float()).any())\n",
    "            print(out.shape)\n",
    "            raise ValueError\n",
    "        \n",
    "        del out\n",
    "        \n",
    "        epoch_loss_joint.append(out_loss.item())\n",
    "        \n",
    "        print(f'\\r\\033[32mEpoch: \\033[0m{epoch} |',end='')\n",
    "        print(f' JOINT |', end='')\n",
    "        print(f' {i} |',end='')\n",
    "        print(f' \\033[35mPOL: \\033[0m{str(running_loss)[0:8]} -->', end='')\n",
    "        print(f' \\033[35mOL: \\033[0m{str(out_loss.item())[0:8]}', end='')\n",
    "\n",
    "        out_loss.backward()\n",
    "        optimizer.step()\n",
    "        \n",
    "\n",
    "        running_loss = out_loss.item()\n",
    "        \n",
    "        del out_loss, mask, pwl \n",
    "        \n",
    "    to_tb = np.array(epoch_loss_joint).sum()/len(epoch_loss_joint)\n",
    "    writer.add_scalar('Cyclic Joint Loss Train', to_tb, epoch)\n",
    "    epoch_loss.append(to_tb)\n",
    "    epoch += 1\n",
    "\n",
    " \n"
   ]
  },
  {
   "cell_type": "code",
   "execution_count": null,
   "metadata": {
    "scrolled": true
   },
   "outputs": [],
   "source": [
    "savename = 'Jun19_chris-MS-7C37_2.unet'\n",
    "\n",
    "if os.path.exists(savename):\n",
    "    raise NameError('Save file of this path already exists.')\n",
    "\n",
    "hyperparameters =  {'lr': lr,\n",
    "                    'epoch_final': epoch,\n",
    "                    'weight_cross_entropy_loss':weight_cel,\n",
    "                    'weight_dice_loss':weight_dice,\n",
    "                    'epoch_loss': epoch_loss,\n",
    "                    'cross_entropy_loss_z_weighting_method': cel_z_weighting_method,\n",
    "                    'transfer_learning_unet_starting_state_dict_name': sd,\n",
    "                    'optimizer': optimizer.state_dict(),\n",
    "                    'time_started': timestart,\n",
    "                    'time_finished': time.asctime(),\n",
    "                    'savename': savename\n",
    "                    \n",
    "                   }\n",
    "\n",
    "test.save(savename, hyperparameters)"
   ]
  },
  {
   "cell_type": "code",
   "execution_count": null,
   "metadata": {
    "scrolled": false
   },
   "outputs": [],
   "source": [
    "image, mask, pwl  = val_data[0]\n",
    "#test.eval()\n",
    "#test.cpu()\n",
    "with torch.no_grad(): \n",
    "    out = test(image.float().cuda())\n",
    "\n",
    "pred = F.sigmoid(out) > .5\n",
    "for i in range(image.shape[-1]):\n",
    "    plt.figure(figsize=(9,9))\n",
    "    #plt.imshow(image[0,[0,2,1],:,:,i].float().transpose(0,1).transpose(1,2)*.5 + .5)\n",
    "    #plt.imshow(image[0,0:3,:,:,i].float().transpose(0,1).transpose(1,2)*.5 + .5)\n",
    "    plt.imshow(mask[0,0,:,:,i].float(), cmap = 'Greens')\n",
    "    plt.imshow(pred[0,0,:,:,i].cpu().detach().numpy(), cmap=plt.cm.nipy_spectral,alpha=.3)\n",
    "    plt.show()\n"
   ]
  },
  {
   "cell_type": "code",
   "execution_count": null,
   "metadata": {},
   "outputs": [],
   "source": [
    "torch.cuda.empty_cache()"
   ]
  },
  {
   "cell_type": "code",
   "execution_count": null,
   "metadata": {},
   "outputs": [],
   "source": []
  }
 ],
 "metadata": {
  "accelerator": "GPU",
  "colab": {
   "collapsed_sections": [],
   "machine_shape": "hm",
   "name": "Unet.ipynb",
   "provenance": []
  },
  "kernelspec": {
   "display_name": "Python 3",
   "language": "python",
   "name": "python3"
  },
  "language_info": {
   "codemirror_mode": {
    "name": "ipython",
    "version": 3
   },
   "file_extension": ".py",
   "mimetype": "text/x-python",
   "name": "python",
   "nbconvert_exporter": "python",
   "pygments_lexer": "ipython3",
   "version": "3.7.6"
  }
 },
 "nbformat": 4,
 "nbformat_minor": 1
}
