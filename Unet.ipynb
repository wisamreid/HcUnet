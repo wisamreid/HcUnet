{
 "cells": [
  {
   "cell_type": "code",
   "execution_count": 1,
   "metadata": {
    "colab": {},
    "colab_type": "code",
    "id": "jLMmj1M3Qo9F"
   },
   "outputs": [],
   "source": [
    "from unet import unet_constructor as GUnet\n",
    "import dataloader as dataloader\n",
    "from loss import dice_loss, cross_entropy_loss, random_cross_entropy\n",
    "import transforms as t\n",
    "import torch.nn.functional as F\n",
    "import torch\n",
    "import torch.nn as nn\n",
    "import torchvision.transforms as tt\n",
    "from torch.utils.tensorboard import SummaryWriter\n",
    "import numpy as np\n",
    "import matplotlib.pyplot as plt\n",
    "import pickle\n",
    "import skimage.io as io\n",
    "import os\n",
    "\n",
    "writer = SummaryWriter()"
   ]
  },
  {
   "cell_type": "code",
   "execution_count": 2,
   "metadata": {
    "colab": {},
    "colab_type": "code",
    "id": "Nbvse8ATuXoQ",
    "scrolled": true
   },
   "outputs": [],
   "source": [
    "data = dataloader.stack(path='./Data/train',\n",
    "                        joint_transforms=[t.to_float(),\n",
    "                                          t.reshape(),\n",
    "                                          t.nul_crop(rate=.8),\n",
    "                                          t.random_crop([300, 300, 30]),\n",
    "                                          t.random_rotate(),\n",
    "                                          t.random_affine()\n",
    "                                          ],\n",
    "                        image_transforms=[\n",
    "                                          t.drop_channel(1), \n",
    "                                          t.random_gamma((.6,1.4)),\n",
    "                                          #t.random_intensity(),\n",
    "                                          t.spekle(),\n",
    "                                          t.normalize([0.5, 0.5, 0.5, 0.5], [0.5, 0.5, 0.5, 0.5])\n",
    "                                          ]\n",
    "                        )\n",
    "\n",
    "val_data = dataloader.stack(path='./Data/train',\n",
    "                        joint_transforms=[t.to_float(),\n",
    "                                          t.reshape(),\n",
    "                                          t.random_crop([512, 512, 30]),\n",
    "                                          t.random_rotate(90),\n",
    "                                          #t.random_affine\n",
    "                                          ],\n",
    "                        image_transforms=[\n",
    "                                          #t.random_gamma((.8,1.2)),\n",
    "                                          #t.spekle(),\n",
    "                                          t.normalize([0.5, 0.5, 0.5, 0.5], [0.5, 0.5, 0.5, 0.5])\n",
    "                                          ]\n",
    "                        )\n",
    "\n"
   ]
  },
  {
   "cell_type": "code",
   "execution_count": 3,
   "metadata": {
    "colab": {},
    "colab_type": "code",
    "id": "ge1kgUHcQyye"
   },
   "outputs": [],
   "source": [
    "device = 'cuda:0'\n",
    "\n",
    "test = GUnet(image_dimensions=3,\n",
    "             in_channels=4,\n",
    "             out_channels=1,\n",
    "             feature_sizes=[16,32,64,128],\n",
    "             kernel={'conv1': (3, 3, 2), 'conv2': (3, 3, 1)},\n",
    "             upsample_kernel=(8, 8, 2),\n",
    "             max_pool_kernel=(2, 2, 1),\n",
    "             upsample_stride=(2, 2, 1),\n",
    "             dilation=1,\n",
    "             groups=2).to(device)\n",
    "\n",
    "\n",
    "test = test.type(torch.float)\n",
    "\n",
    "image, mask, pwl = data[0]\n",
    "\n",
    "out = test.forward(image.float().to(device))\n",
    "out_loss = dice_loss(out, mask.to(device))#, pwl.float().to('cuda'))\n",
    "\n"
   ]
  },
  {
   "cell_type": "code",
   "execution_count": 4,
   "metadata": {
    "colab": {},
    "colab_type": "code",
    "id": "kcUBS1bHppYS",
    "scrolled": true
   },
   "outputs": [
    {
     "name": "stdout",
     "output_type": "stream",
     "text": [
      "Yeet\n"
     ]
    }
   ],
   "source": [
    "test.load('May11_chris-MS-7C37_1.unet')\n",
    "test.cuda()\n",
    "test.train()\n",
    "print('Yeet')"
   ]
  },
  {
   "cell_type": "code",
   "execution_count": 5,
   "metadata": {},
   "outputs": [],
   "source": [
    "epoch = 0 \n",
    "k = 0\n",
    "running_loss = 0\n",
    "device = 'cuda:0'\n",
    "\n",
    "losses_dice=[]\n",
    "avg_losses_dice = []\n",
    "losses_BCE=[]\n",
    "avg_losses_BCE = []\n",
    "\n"
   ]
  },
  {
   "cell_type": "code",
   "execution_count": 6,
   "metadata": {
    "colab": {},
    "colab_type": "code",
    "id": "qvqbnGucp2s0"
   },
   "outputs": [],
   "source": [
    "lr = .01\n",
    "gamma = .75\n",
    "\n",
    "optimizer = torch.optim.Adam(test.parameters(), lr = lr)\n",
    "#optimizer = torch.optim.SGD(test.parameters(), lr=lr, momentum=.99, nesterov=True)\n",
    "\n",
    "scheduler_1 = torch.optim.lr_scheduler.ExponentialLR(optimizer=optimizer, gamma=gamma)\n",
    "scheduler_2 = torch.optim.lr_scheduler.CosineAnnealingLR(optimizer=optimizer, T_max=100)\n"
   ]
  },
  {
   "cell_type": "code",
   "execution_count": null,
   "metadata": {
    "colab": {
     "base_uri": "https://localhost:8080/",
     "height": 32
    },
    "colab_type": "code",
    "id": "zbF3sMdZRKb5",
    "outputId": "6832ad5d-92bf-4554-aa0f-387fd63508f3"
   },
   "outputs": [
    {
     "name": "stdout",
     "output_type": "stream",
     "text": [
      "\u001b[32mEpoch: \u001b[0m6 | JOINT | 5 | \u001b[35mPOL: \u001b[0m0.348080 --> \u001b[35mOL: \u001b[0m0.316694"
     ]
    }
   ],
   "source": [
    "while True:  # loop over the dataset multiple times\n",
    "    epoch_loss_dice=[]\n",
    "    epoch_loss_BCE=[]\n",
    "    epoch_loss_joint=[]\n",
    "    for i in range(len(data)):\n",
    "        image, mask, pwl  = data[i]\n",
    "\n",
    "        optimizer.zero_grad()\n",
    "        out = test(image.float().to('cuda'))\n",
    "\n",
    "\n",
    "        out_loss = ((np.cos(2*np.pi * (epoch/100))+1)/4 + .2) * cross_entropy_loss(out, mask.to('cuda'), pwl.to('cuda'), 5) +\\\n",
    "                   dice_loss(out, mask.to('cuda'))\n",
    "        epoch_loss_joint.append(out_loss.item())\n",
    "        \n",
    "        print(f'\\r\\033[32mEpoch: \\033[0m{epoch} |',end='')\n",
    "        print(f' JOINT |', end='')\n",
    "        print(f' {i} |',end='')\n",
    "        print(f' \\033[35mPOL: \\033[0m{str(running_loss)[0:8]} -->', end='')\n",
    "        print(f' \\033[35mOL: \\033[0m{str(out_loss.item())[0:8]}', end='')\n",
    "\n",
    "        out_loss.backward()\n",
    "        optimizer.step()\n",
    "\n",
    "        running_loss = out_loss.item()\n",
    "\n",
    "        if epoch+1 % 150 == 0:\n",
    "            scheduler_1.step() \n",
    "\n",
    "    \n",
    "    to_tb = np.array(epoch_loss_joint).sum()/len(epoch_loss_joint)\n",
    "    writer.add_scalar('Cyclic Joint Loss Train', to_tb, epoch)\n",
    "    epoch += 1\n",
    "\n",
    "\n"
   ]
  },
  {
   "cell_type": "code",
   "execution_count": null,
   "metadata": {
    "colab": {},
    "colab_type": "code",
    "id": "FHEDVZPqabcK"
   },
   "outputs": [],
   "source": [
    "test.save('May11_chris-MS-7C37_1.unet')"
   ]
  },
  {
   "cell_type": "code",
   "execution_count": null,
   "metadata": {
    "colab": {
     "base_uri": "https://localhost:8080/",
     "height": 1000
    },
    "colab_type": "code",
    "id": "upSMMQWwEaf3",
    "outputId": "20905398-1900-44a9-cdb9-be3fac0dd1f2",
    "scrolled": false
   },
   "outputs": [],
   "source": [
    "image, mask, pwl  = val_data[8]\n",
    "test.eval()\n",
    "#test.cpu()\n",
    "with torch.no_grad(): \n",
    "    out = test(image.float().cuda())\n"
   ]
  },
  {
   "cell_type": "code",
   "execution_count": null,
   "metadata": {
    "scrolled": false
   },
   "outputs": [],
   "source": [
    "pred = F.sigmoid(out) > .5\n",
    "for i in range(image.shape[-1]):\n",
    "    plt.figure(figsize=(9,9))\n",
    "    #plt.imshow(image[0,[0,2,1],:,:,i].float().transpose(0,1).transpose(1,2)*.5 + .5)\n",
    "    #plt.imshow(image[0,0:3,:,:,i].float().transpose(0,1).transpose(1,2)*.5 + .5)\n",
    "    plt.imshow(mask[0,0,:,:,i].float(), cmap = 'Greens')\n",
    "    plt.imshow(pred[0,0,:,:,i].cpu().detach().numpy(), cmap=plt.cm.nipy_spectral,alpha=.3)\n",
    "    plt.show()\n"
   ]
  },
  {
   "cell_type": "code",
   "execution_count": null,
   "metadata": {},
   "outputs": [],
   "source": [
    "pred.shape"
   ]
  },
  {
   "cell_type": "code",
   "execution_count": null,
   "metadata": {},
   "outputs": [],
   "source": [
    "io.imsave('overlap.tif', pred.cpu().squeeze(0).transpose(0,3).float().numpy())"
   ]
  },
  {
   "cell_type": "code",
   "execution_count": null,
   "metadata": {},
   "outputs": [],
   "source": [
    "n.shape"
   ]
  },
  {
   "cell_type": "code",
   "execution_count": null,
   "metadata": {},
   "outputs": [],
   "source": [
    "image.float()"
   ]
  },
  {
   "cell_type": "code",
   "execution_count": null,
   "metadata": {},
   "outputs": [],
   "source": []
  }
 ],
 "metadata": {
  "accelerator": "GPU",
  "colab": {
   "collapsed_sections": [],
   "machine_shape": "hm",
   "name": "Unet.ipynb",
   "provenance": []
  },
  "kernelspec": {
   "display_name": "Python 3",
   "language": "python",
   "name": "python3"
  },
  "language_info": {
   "codemirror_mode": {
    "name": "ipython",
    "version": 3
   },
   "file_extension": ".py",
   "mimetype": "text/x-python",
   "name": "python",
   "nbconvert_exporter": "python",
   "pygments_lexer": "ipython3",
   "version": "3.7.6"
  }
 },
 "nbformat": 4,
 "nbformat_minor": 1
}
